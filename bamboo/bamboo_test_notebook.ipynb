{
 "cells": [
  {
   "cell_type": "code",
   "execution_count": 3,
   "metadata": {},
   "outputs": [],
   "source": [
    "from sklearn.base import BaseEstimator, TransformerMixin\n",
    "from sklearn.preprocessing import (StandardScaler, MinMaxScaler, Normalizer,\n",
    "                                   MaxAbsScaler, RobustScaler, Binarizer, QuantileTransformer)\n",
    "\n",
    "import pandas as pd"
   ]
  },
  {
   "cell_type": "code",
   "execution_count": 5,
   "metadata": {},
   "outputs": [
    {
     "name": "stdout",
     "output_type": "stream",
     "text": [
      " Volume in drive C is Windows8_OS\n",
      " Volume Serial Number is 1409-1A11\n",
      "\n",
      " Directory of C:\\Users\\rmdelgad\\Documents\\repos\\sklearn-bamboo\\bamboo\n",
      "\n",
      "04/07/2018  09:28 AM    <DIR>          .\n",
      "04/07/2018  09:28 AM    <DIR>          ..\n",
      "04/07/2018  08:35 AM    <DIR>          .ipynb_checkpoints\n",
      "04/07/2018  09:28 AM             4,576 alcohol.csv\n",
      "04/07/2018  09:05 AM             1,930 preprocessing.py\n",
      "04/07/2018  09:12 AM             3,172 Untitled.ipynb\n",
      "04/07/2018  08:19 AM                 0 __init__.py\n",
      "               4 File(s)          9,678 bytes\n",
      "               3 Dir(s)  350,573,215,744 bytes free\n"
     ]
    }
   ],
   "source": [
    "!dir"
   ]
  },
  {
   "cell_type": "code",
   "execution_count": 81,
   "metadata": {},
   "outputs": [],
   "source": [
    "class NumericRescalerDF(BaseEstimator, TransformerMixin):\n",
    "\n",
    "    _transformer_class = None\n",
    "\n",
    "    def __init__(self, subset_columns=(), *args, **kwargs):\n",
    "        self.subset_columns = subset_columns\n",
    "        self._transformer = self._transformer_class(*args, **kwargs)\n",
    "\n",
    "    def _is_all_numeric(self, X):\n",
    "        return set(X[self.subset_columns].select_dtypes(include=NUMPY_NUMERIC_DTYPES).columns) == set(self.subset_columns)\n",
    "\n",
    "    def fit(self, X, y=None):\n",
    "        if len(self.subset_columns) < 1:\n",
    "            self.subset_columns = X.columns\n",
    "        subset_df = X[self.subset_columns]\n",
    "        if not self._is_all_numeric(subset_df):\n",
    "            raise TypeError('The columns to transform must all be numeric.')\n",
    "\n",
    "        self._transformer.fit(subset_df.values)\n",
    "        return self\n",
    "\n",
    "    def transform(self, X, y=None):\n",
    "        X_copy = X.copy()\n",
    "        X_copy[self.subset_columns] = self._transformer.transform(X_copy[self.subset_columns].values)\n",
    "        return X_copy\n",
    "\n",
    "    def inverse_transform(self, X):\n",
    "        X_copy = X.copy()\n",
    "        X_copy[self.subset_columns] = self._transformer.inverse_transform(X_copy[self.subset_columns].values)\n",
    "        return X_copy"
   ]
  },
  {
   "cell_type": "code",
   "execution_count": 82,
   "metadata": {},
   "outputs": [],
   "source": [
    "class MinMaxScalerDF(NumericRescalerDF):\n",
    "    _transformer_class = MinMaxScaler\n",
    "\n",
    "class StandardScalerDF(NumericRescalerDF):\n",
    "    _transformer_class = StandardScaler\n",
    "\n",
    "class NormalizerDF(NumericRescalerDF):\n",
    "    _transformer_class = Normalizer\n",
    "\n",
    "class MaxAbsScalerDF(NumericRescalerDF):\n",
    "    _transformer_class = MaxAbsScaler\n",
    "\n",
    "class RobustScalerDF(NumericRescalerDF):\n",
    "    _transformer_class = RobustScaler\n",
    "\n",
    "class BinarizerDF(NumericRescalerDF):\n",
    "    _transformer_class = Binarizer\n",
    "\n",
    "class QuantileTransformerDF(NumericRescalerDF):\n",
    "    _transformer_class = QuantileTransformer\n"
   ]
  },
  {
   "cell_type": "code",
   "execution_count": 52,
   "metadata": {},
   "outputs": [
    {
     "data": {
      "text/html": [
       "<div>\n",
       "<style scoped>\n",
       "    .dataframe tbody tr th:only-of-type {\n",
       "        vertical-align: middle;\n",
       "    }\n",
       "\n",
       "    .dataframe tbody tr th {\n",
       "        vertical-align: top;\n",
       "    }\n",
       "\n",
       "    .dataframe thead th {\n",
       "        text-align: right;\n",
       "    }\n",
       "</style>\n",
       "<table border=\"1\" class=\"dataframe\">\n",
       "  <thead>\n",
       "    <tr style=\"text-align: right;\">\n",
       "      <th></th>\n",
       "      <th>country</th>\n",
       "      <th>beer_servings</th>\n",
       "      <th>spirit_servings</th>\n",
       "      <th>wine_servings</th>\n",
       "      <th>total_litres_of_pure_alcohol</th>\n",
       "    </tr>\n",
       "  </thead>\n",
       "  <tbody>\n",
       "    <tr>\n",
       "      <th>0</th>\n",
       "      <td>Afghanistan</td>\n",
       "      <td>0</td>\n",
       "      <td>0</td>\n",
       "      <td>0</td>\n",
       "      <td>0.0</td>\n",
       "    </tr>\n",
       "    <tr>\n",
       "      <th>1</th>\n",
       "      <td>Albania</td>\n",
       "      <td>89</td>\n",
       "      <td>132</td>\n",
       "      <td>54</td>\n",
       "      <td>4.9</td>\n",
       "    </tr>\n",
       "    <tr>\n",
       "      <th>2</th>\n",
       "      <td>Algeria</td>\n",
       "      <td>25</td>\n",
       "      <td>0</td>\n",
       "      <td>14</td>\n",
       "      <td>0.7</td>\n",
       "    </tr>\n",
       "    <tr>\n",
       "      <th>3</th>\n",
       "      <td>Andorra</td>\n",
       "      <td>245</td>\n",
       "      <td>138</td>\n",
       "      <td>312</td>\n",
       "      <td>12.4</td>\n",
       "    </tr>\n",
       "    <tr>\n",
       "      <th>4</th>\n",
       "      <td>Angola</td>\n",
       "      <td>217</td>\n",
       "      <td>57</td>\n",
       "      <td>45</td>\n",
       "      <td>5.9</td>\n",
       "    </tr>\n",
       "  </tbody>\n",
       "</table>\n",
       "</div>"
      ],
      "text/plain": [
       "       country  beer_servings  spirit_servings  wine_servings  \\\n",
       "0  Afghanistan              0                0              0   \n",
       "1      Albania             89              132             54   \n",
       "2      Algeria             25                0             14   \n",
       "3      Andorra            245              138            312   \n",
       "4       Angola            217               57             45   \n",
       "\n",
       "   total_litres_of_pure_alcohol  \n",
       "0                           0.0  \n",
       "1                           4.9  \n",
       "2                           0.7  \n",
       "3                          12.4  \n",
       "4                           5.9  "
      ]
     },
     "execution_count": 52,
     "metadata": {},
     "output_type": "execute_result"
    }
   ],
   "source": [
    "df = pd.read_csv('alcohol.csv')\n",
    "subset = ['beer_servings', 'spirit_servings', 'wine_servings', 'total_litres_of_pure_alcohol']\n",
    "df.head()"
   ]
  },
  {
   "cell_type": "code",
   "execution_count": 53,
   "metadata": {},
   "outputs": [
    {
     "name": "stdout",
     "output_type": "stream",
     "text": [
      "<class 'pandas.core.frame.DataFrame'>\n",
      "RangeIndex: 193 entries, 0 to 192\n",
      "Data columns (total 5 columns):\n",
      "country                         193 non-null object\n",
      "beer_servings                   193 non-null int64\n",
      "spirit_servings                 193 non-null int64\n",
      "wine_servings                   193 non-null int64\n",
      "total_litres_of_pure_alcohol    193 non-null float64\n",
      "dtypes: float64(1), int64(3), object(1)\n",
      "memory usage: 7.6+ KB\n"
     ]
    }
   ],
   "source": [
    "df.info()"
   ]
  },
  {
   "cell_type": "code",
   "execution_count": 54,
   "metadata": {},
   "outputs": [],
   "source": [
    "mmx = MinMaxScalerDF(subset_columns=subset)\n",
    "mmx.fit(df)"
   ]
  },
  {
   "cell_type": "code",
   "execution_count": 55,
   "metadata": {},
   "outputs": [],
   "source": [
    "df_trans = mmx.transform(df)"
   ]
  },
  {
   "cell_type": "code",
   "execution_count": 56,
   "metadata": {},
   "outputs": [
    {
     "data": {
      "text/html": [
       "<div>\n",
       "<style scoped>\n",
       "    .dataframe tbody tr th:only-of-type {\n",
       "        vertical-align: middle;\n",
       "    }\n",
       "\n",
       "    .dataframe tbody tr th {\n",
       "        vertical-align: top;\n",
       "    }\n",
       "\n",
       "    .dataframe thead th {\n",
       "        text-align: right;\n",
       "    }\n",
       "</style>\n",
       "<table border=\"1\" class=\"dataframe\">\n",
       "  <thead>\n",
       "    <tr style=\"text-align: right;\">\n",
       "      <th></th>\n",
       "      <th>country</th>\n",
       "      <th>beer_servings</th>\n",
       "      <th>spirit_servings</th>\n",
       "      <th>wine_servings</th>\n",
       "      <th>total_litres_of_pure_alcohol</th>\n",
       "    </tr>\n",
       "  </thead>\n",
       "  <tbody>\n",
       "    <tr>\n",
       "      <th>0</th>\n",
       "      <td>Afghanistan</td>\n",
       "      <td>0.000000</td>\n",
       "      <td>0.000000</td>\n",
       "      <td>0.000000</td>\n",
       "      <td>0.000000</td>\n",
       "    </tr>\n",
       "    <tr>\n",
       "      <th>1</th>\n",
       "      <td>Albania</td>\n",
       "      <td>0.236702</td>\n",
       "      <td>0.301370</td>\n",
       "      <td>0.145946</td>\n",
       "      <td>0.340278</td>\n",
       "    </tr>\n",
       "    <tr>\n",
       "      <th>2</th>\n",
       "      <td>Algeria</td>\n",
       "      <td>0.066489</td>\n",
       "      <td>0.000000</td>\n",
       "      <td>0.037838</td>\n",
       "      <td>0.048611</td>\n",
       "    </tr>\n",
       "    <tr>\n",
       "      <th>3</th>\n",
       "      <td>Andorra</td>\n",
       "      <td>0.651596</td>\n",
       "      <td>0.315068</td>\n",
       "      <td>0.843243</td>\n",
       "      <td>0.861111</td>\n",
       "    </tr>\n",
       "    <tr>\n",
       "      <th>4</th>\n",
       "      <td>Angola</td>\n",
       "      <td>0.577128</td>\n",
       "      <td>0.130137</td>\n",
       "      <td>0.121622</td>\n",
       "      <td>0.409722</td>\n",
       "    </tr>\n",
       "  </tbody>\n",
       "</table>\n",
       "</div>"
      ],
      "text/plain": [
       "       country  beer_servings  spirit_servings  wine_servings  \\\n",
       "0  Afghanistan       0.000000         0.000000       0.000000   \n",
       "1      Albania       0.236702         0.301370       0.145946   \n",
       "2      Algeria       0.066489         0.000000       0.037838   \n",
       "3      Andorra       0.651596         0.315068       0.843243   \n",
       "4       Angola       0.577128         0.130137       0.121622   \n",
       "\n",
       "   total_litres_of_pure_alcohol  \n",
       "0                      0.000000  \n",
       "1                      0.340278  \n",
       "2                      0.048611  \n",
       "3                      0.861111  \n",
       "4                      0.409722  "
      ]
     },
     "execution_count": 56,
     "metadata": {},
     "output_type": "execute_result"
    }
   ],
   "source": [
    "df_trans.head()"
   ]
  },
  {
   "cell_type": "code",
   "execution_count": 57,
   "metadata": {},
   "outputs": [],
   "source": [
    "std = StandardScalerDF(subset_columns=subset)\n",
    "std.fit(df)\n",
    "df_std = std.transform(df)"
   ]
  },
  {
   "cell_type": "code",
   "execution_count": 83,
   "metadata": {},
   "outputs": [],
   "source": [
    "df_transformers = (MinMaxScalerDF, StandardScalerDF, NormalizerDF, \n",
    "                   MaxAbsScalerDF, RobustScalerDF, BinarizerDF, \n",
    "                   QuantileTransformerDF)\n",
    "\n",
    "for trans in df_transformers:\n",
    "    trns = trans(subset_columns=subset)\n",
    "    trns.fit(df)\n",
    "    df_trans = trns.transform(df)"
   ]
  },
  {
   "cell_type": "code",
   "execution_count": 84,
   "metadata": {},
   "outputs": [],
   "source": [
    "for trans in df_transformers:\n",
    "    trns = trans(subset_columns=subset)\n",
    "    df_trans = trns.fit_transform(df)"
   ]
  },
  {
   "cell_type": "code",
   "execution_count": null,
   "metadata": {},
   "outputs": [],
   "source": []
  }
 ],
 "metadata": {
  "kernelspec": {
   "display_name": "Data Science",
   "language": "python",
   "name": "datascience"
  },
  "language_info": {
   "codemirror_mode": {
    "name": "ipython",
    "version": 3
   },
   "file_extension": ".py",
   "mimetype": "text/x-python",
   "name": "python",
   "nbconvert_exporter": "python",
   "pygments_lexer": "ipython3",
   "version": "3.6.4"
  }
 },
 "nbformat": 4,
 "nbformat_minor": 2
}
