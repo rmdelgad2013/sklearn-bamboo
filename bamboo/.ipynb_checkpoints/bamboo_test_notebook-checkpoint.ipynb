{
 "cells": [
  {
   "cell_type": "code",
   "execution_count": 1,
   "metadata": {},
   "outputs": [
    {
     "ename": "ModuleNotFoundError",
     "evalue": "No module named 'sklearn'",
     "output_type": "error",
     "traceback": [
      "\u001b[1;31m---------------------------------------------------------------------------\u001b[0m",
      "\u001b[1;31mModuleNotFoundError\u001b[0m                       Traceback (most recent call last)",
      "\u001b[1;32m<ipython-input-1-a0a594c2478e>\u001b[0m in \u001b[0;36m<module>\u001b[1;34m()\u001b[0m\n\u001b[1;32m----> 1\u001b[1;33m \u001b[1;32mfrom\u001b[0m \u001b[0msklearn\u001b[0m\u001b[1;33m.\u001b[0m\u001b[0mbase\u001b[0m \u001b[1;32mimport\u001b[0m \u001b[0mBaseEstimator\u001b[0m\u001b[1;33m,\u001b[0m \u001b[0mTransformerMixin\u001b[0m\u001b[1;33m\u001b[0m\u001b[0m\n\u001b[0m\u001b[0;32m      2\u001b[0m \u001b[1;32mfrom\u001b[0m \u001b[0msklearn\u001b[0m\u001b[1;33m.\u001b[0m\u001b[0mpreprocessing\u001b[0m \u001b[1;32mimport\u001b[0m \u001b[0mStandardScaler\u001b[0m\u001b[1;33m,\u001b[0m \u001b[0mMinMaxScaler\u001b[0m\u001b[1;33m\u001b[0m\u001b[0m\n\u001b[0;32m      3\u001b[0m \u001b[1;32mimport\u001b[0m \u001b[0mpandas\u001b[0m \u001b[1;32mas\u001b[0m \u001b[0mpd\u001b[0m\u001b[1;33m\u001b[0m\u001b[0m\n",
      "\u001b[1;31mModuleNotFoundError\u001b[0m: No module named 'sklearn'"
     ]
    }
   ],
   "source": [
    "from sklearn.base import BaseEstimator, TransformerMixin\n",
    "from sklearn.preprocessing import StandardScaler, MinMaxScaler\n",
    "import pandas as pd"
   ]
  },
  {
   "cell_type": "code",
   "execution_count": null,
   "metadata": {},
   "outputs": [],
   "source": [
    "class StandardScalerDF(BaseEstimator, TransformerMixin):\n",
    "\n",
    "    def __init__(self, subset_columns=(), *args, **kwargs):\n",
    "        self.subset_columns = subset_columns\n",
    "        self._transformer = StandardScaler(*args, **kwargs)\n",
    "\n",
    "    def _is_all_numeric(self, X):\n",
    "        return X.select_dtypes(include=(int, float)).columns == X.columns\n",
    "\n",
    "    def fit(self, X, y=None):\n",
    "        if len(self.subset_columns) < 1:\n",
    "            self.subset_columns = X.columns\n",
    "        if not self._is_all_numeric(X):\n",
    "            raise TypeError('The columns to transform must all be numeric.')\n",
    "\n",
    "        subset_df = X[self.subset_columns]\n",
    "        self._transformer.fit(subset_df.values)\n",
    "\n",
    "    def transform(self, X, y=None):\n",
    "        X_copy = X.copy()\n",
    "        X_copy[self.subset_columns] = self._transformer.transform(X_copy[self.subset_columns].values)\n",
    "        return X_copy\n",
    "\n",
    "    def inverse_transform(self, X):\n",
    "        X_copy = X.copy()\n",
    "        X_copy[self.subset_columns] = self._transformer.inverse_transform(X_copy[self.subset_columns].values)\n",
    "        return X_copy"
   ]
  }
 ],
 "metadata": {
  "kernelspec": {
   "display_name": "Data Science",
   "language": "python",
   "name": "datascience"
  },
  "language_info": {
   "codemirror_mode": {
    "name": "ipython",
    "version": 3
   },
   "file_extension": ".py",
   "mimetype": "text/x-python",
   "name": "python",
   "nbconvert_exporter": "python",
   "pygments_lexer": "ipython3",
   "version": "3.6.4"
  }
 },
 "nbformat": 4,
 "nbformat_minor": 2
}
